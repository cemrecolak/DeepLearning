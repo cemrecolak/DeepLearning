{
 "cells": [
  {
   "cell_type": "markdown",
   "metadata": {},
   "source": [
    "# Assignment - Convolutional Neural Networks"
   ]
  },
  {
   "cell_type": "markdown",
   "metadata": {},
   "source": [
    "Develop a CNN model using the CIFAR-100 dataset which has 32x32 images from 100 different classes. Try to increase the accuracy of the model to over 0.95. To do this, you can change the number of epochs, the number of convolution and dense layers, the kernel size, the number of filters, the padding and stride values.\n",
    "\n",
    "You can download the dataset with the code from keras.datasets import cifar100."
   ]
  },
  {
   "cell_type": "code",
   "execution_count": 1,
   "metadata": {},
   "outputs": [
    {
     "name": "stdout",
     "output_type": "stream",
     "text": [
      "Shape of Train Set (X) : (50000, 32, 32, 3)\n",
      "Shape of Train Set (y) : (50000, 1)\n",
      "Shape of Test Set (X)   : (10000, 32, 32, 3)\n",
      "Shape of Test Set (y)   : (10000, 1)\n"
     ]
    }
   ],
   "source": [
    "from keras.models import Sequential\n",
    "from tensorflow.keras.datasets import cifar100\n",
    "from keras.layers import Dense, Dropout, Conv2D, MaxPool2D, AvgPool2D, Flatten\n",
    "from tensorflow.keras.layers import BatchNormalization\n",
    "from keras.utils import np_utils\n",
    "\n",
    "(X_train, y_train), (X_test, y_test) = cifar100.load_data()\n",
    "\n",
    "print(\"Shape of Train Set (X) :\", X_train.shape)\n",
    "print(\"Shape of Train Set (y) :\", y_train.shape)\n",
    "print(\"Shape of Test Set (X)   :\", X_test.shape)\n",
    "print(\"Shape of Test Set (y)   :\", y_test.shape)\n",
    "X_train = X_train.astype('float32')\n",
    "X_test = X_test.astype('float32')\n",
    "\n",
    "# normalizing the data to help with the training\n",
    "X_train /= 255\n",
    "X_test /= 255"
   ]
  },
  {
   "cell_type": "code",
   "execution_count": 2,
   "metadata": {},
   "outputs": [
    {
     "name": "stdout",
     "output_type": "stream",
     "text": [
      "Shape before one-hot encoding:  (50000, 1)\n",
      "Shape after one-hot encoding:  (50000, 100)\n"
     ]
    }
   ],
   "source": [
    "n_classes = 100\n",
    "print(\"Shape before one-hot encoding: \", y_train.shape)\n",
    "Y_train = np_utils.to_categorical(y_train, n_classes)\n",
    "Y_test = np_utils.to_categorical(y_test, n_classes)\n",
    "print(\"Shape after one-hot encoding: \", Y_train.shape)"
   ]
  },
  {
   "cell_type": "code",
   "execution_count": 5,
   "metadata": {
    "tags": []
   },
   "outputs": [
    {
     "name": "stdout",
     "output_type": "stream",
     "text": [
      "Model: \"sequential_2\"\n",
      "_________________________________________________________________\n",
      "Layer (type)                 Output Shape              Param #   \n",
      "=================================================================\n",
      "conv2d_16 (Conv2D)           (None, 32, 32, 64)        4864      \n",
      "_________________________________________________________________\n",
      "module_wrapper_2 (ModuleWrap (None, 32, 32, 64)        256       \n",
      "_________________________________________________________________\n",
      "conv2d_17 (Conv2D)           (None, 32, 32, 64)        102464    \n",
      "_________________________________________________________________\n",
      "max_pooling2d_4 (MaxPooling2 (None, 16, 16, 64)        0         \n",
      "_________________________________________________________________\n",
      "dropout_10 (Dropout)         (None, 16, 16, 64)        0         \n",
      "_________________________________________________________________\n",
      "conv2d_18 (Conv2D)           (None, 16, 16, 64)        102464    \n",
      "_________________________________________________________________\n",
      "conv2d_19 (Conv2D)           (None, 16, 16, 64)        102464    \n",
      "_________________________________________________________________\n",
      "average_pooling2d_4 (Average (None, 8, 8, 64)          0         \n",
      "_________________________________________________________________\n",
      "dropout_11 (Dropout)         (None, 8, 8, 64)          0         \n",
      "_________________________________________________________________\n",
      "conv2d_20 (Conv2D)           (None, 8, 8, 64)          102464    \n",
      "_________________________________________________________________\n",
      "conv2d_21 (Conv2D)           (None, 8, 8, 64)          102464    \n",
      "_________________________________________________________________\n",
      "max_pooling2d_5 (MaxPooling2 (None, 4, 4, 64)          0         \n",
      "_________________________________________________________________\n",
      "dropout_12 (Dropout)         (None, 4, 4, 64)          0         \n",
      "_________________________________________________________________\n",
      "conv2d_22 (Conv2D)           (None, 4, 4, 64)          102464    \n",
      "_________________________________________________________________\n",
      "conv2d_23 (Conv2D)           (None, 4, 4, 64)          102464    \n",
      "_________________________________________________________________\n",
      "average_pooling2d_5 (Average (None, 2, 2, 64)          0         \n",
      "_________________________________________________________________\n",
      "dropout_13 (Dropout)         (None, 2, 2, 64)          0         \n",
      "_________________________________________________________________\n",
      "dense_4 (Dense)              (None, 2, 2, 16)          1040      \n",
      "_________________________________________________________________\n",
      "dropout_14 (Dropout)         (None, 2, 2, 16)          0         \n",
      "_________________________________________________________________\n",
      "flatten_2 (Flatten)          (None, 64)                0         \n",
      "_________________________________________________________________\n",
      "dense_5 (Dense)              (None, 100)               6500      \n",
      "=================================================================\n",
      "Total params: 729,908\n",
      "Trainable params: 729,780\n",
      "Non-trainable params: 128\n",
      "_________________________________________________________________\n"
     ]
    }
   ],
   "source": [
    "model = Sequential()\n",
    " \n",
    "model.add(Conv2D(64,(5,5),padding='same',activation='relu',input_shape=(32,32,3)))\n",
    "model.add(BatchNormalization())\n",
    "model.add(Conv2D(64,(5,5),padding='same',activation='relu'))\n",
    "model.add(MaxPool2D(pool_size=(2,2)))\n",
    "model.add(Dropout(0.5))\n",
    "\n",
    " \n",
    "model.add(Conv2D(64,(5,5),padding='same',activation='relu'))\n",
    "model.add(Conv2D(64,(5,5),padding='same',activation='relu'))\n",
    "model.add(AvgPool2D(pool_size=(2,2)))\n",
    "model.add(Dropout(0.5))\n",
    "\n",
    "model.add(Conv2D(64,(5,5),padding='same',activation='relu'))\n",
    "model.add(Conv2D(64,(5,5),padding='same',activation='relu'))\n",
    "model.add(MaxPool2D(pool_size=(2,2)))\n",
    "model.add(Dropout(0.5))\n",
    "\n",
    "model.add(Conv2D(64,(5,5),padding='same',activation='relu'))\n",
    "model.add(Conv2D(64,(5,5),padding='same',activation='relu'))\n",
    "model.add(AvgPool2D(pool_size=(2,2)))\n",
    "model.add(Dropout(0.25))\n",
    " \n",
    "model.add(Dense(16, activation='relu'))\n",
    "model.add(Dropout(0.3))\n",
    "model.add(Flatten())\n",
    "model.add(Dense(100,activation='softmax'))\n",
    "model.summary()"
   ]
  },
  {
   "cell_type": "code",
   "execution_count": 6,
   "metadata": {},
   "outputs": [
    {
     "name": "stdout",
     "output_type": "stream",
     "text": [
      "Epoch 1/50\n",
      "50/50 [==============================] - 396s 7s/step - loss: 4.5917 - accuracy: 0.0118\n",
      "Epoch 2/50\n",
      "50/50 [==============================] - 384s 8s/step - loss: 4.5122 - accuracy: 0.0178\n",
      "Epoch 3/50\n",
      "50/50 [==============================] - 1130s 23s/step - loss: 4.4691 - accuracy: 0.0196\n",
      "Epoch 4/50\n",
      "50/50 [==============================] - 1297s 26s/step - loss: 4.4224 - accuracy: 0.0289\n",
      "Epoch 5/50\n",
      "50/50 [==============================] - 351s 7s/step - loss: 4.3392 - accuracy: 0.0362\n",
      "Epoch 6/50\n",
      "50/50 [==============================] - 672s 14s/step - loss: 4.1523 - accuracy: 0.0537\n",
      "Epoch 7/50\n",
      "50/50 [==============================] - 933s 19s/step - loss: 3.9584 - accuracy: 0.0783\n",
      "Epoch 8/50\n",
      "50/50 [==============================] - 951s 19s/step - loss: 3.8268 - accuracy: 0.0987\n",
      "Epoch 9/50\n",
      "50/50 [==============================] - 361s 7s/step - loss: 3.6830 - accuracy: 0.1214\n",
      "Epoch 10/50\n",
      "50/50 [==============================] - 837s 17s/step - loss: 3.5801 - accuracy: 0.1396\n",
      "Epoch 11/50\n",
      "50/50 [==============================] - 366s 7s/step - loss: 3.4931 - accuracy: 0.1543\n",
      "Epoch 12/50\n",
      "50/50 [==============================] - 1325s 27s/step - loss: 3.3969 - accuracy: 0.1744\n",
      "Epoch 13/50\n",
      "50/50 [==============================] - 342s 7s/step - loss: 3.3251 - accuracy: 0.1856\n",
      "Epoch 14/50\n",
      "50/50 [==============================] - 341s 7s/step - loss: 3.2468 - accuracy: 0.1979\n",
      "Epoch 15/50\n",
      "50/50 [==============================] - 1661s 34s/step - loss: 3.1668 - accuracy: 0.2161\n",
      "Epoch 16/50\n",
      "50/50 [==============================] - 370s 7s/step - loss: 3.1203 - accuracy: 0.2281\n",
      "Epoch 17/50\n",
      "50/50 [==============================] - 525s 11s/step - loss: 3.0493 - accuracy: 0.2454\n",
      "Epoch 18/50\n",
      "50/50 [==============================] - 1528s 31s/step - loss: 2.9939 - accuracy: 0.2546\n",
      "Epoch 19/50\n",
      "50/50 [==============================] - 379s 8s/step - loss: 2.9471 - accuracy: 0.2628\n",
      "Epoch 20/50\n",
      "50/50 [==============================] - 1566s 32s/step - loss: 2.8778 - accuracy: 0.2798\n",
      "Epoch 21/50\n",
      "50/50 [==============================] - 617s 12s/step - loss: 2.8212 - accuracy: 0.2860\n",
      "Epoch 22/50\n",
      "50/50 [==============================] - 830s 17s/step - loss: 2.7758 - accuracy: 0.2961\n",
      "Epoch 23/50\n",
      "50/50 [==============================] - 395s 8s/step - loss: 2.7603 - accuracy: 0.2974\n",
      "Epoch 24/50\n",
      "50/50 [==============================] - 1109s 22s/step - loss: 2.7093 - accuracy: 0.3100\n",
      "Epoch 25/50\n",
      "50/50 [==============================] - 376s 8s/step - loss: 2.6882 - accuracy: 0.3113\n",
      "Epoch 26/50\n",
      "50/50 [==============================] - 992s 20s/step - loss: 2.6475 - accuracy: 0.3246\n",
      "Epoch 27/50\n",
      "50/50 [==============================] - 347s 7s/step - loss: 2.6364 - accuracy: 0.3237\n",
      "Epoch 28/50\n",
      "50/50 [==============================] - 1554s 32s/step - loss: 2.5914 - accuracy: 0.3329\n",
      "Epoch 29/50\n",
      "50/50 [==============================] - 358s 7s/step - loss: 2.5719 - accuracy: 0.3372\n",
      "Epoch 30/50\n",
      "50/50 [==============================] - 6013s 123s/step - loss: 2.5287 - accuracy: 0.3453\n",
      "Epoch 31/50\n",
      "50/50 [==============================] - 340s 7s/step - loss: 2.5115 - accuracy: 0.3484\n",
      "Epoch 32/50\n",
      "50/50 [==============================] - 1923s 39s/step - loss: 2.4792 - accuracy: 0.3561\n",
      "Epoch 33/50\n",
      "50/50 [==============================] - 374s 7s/step - loss: 2.4662 - accuracy: 0.3585\n",
      "Epoch 34/50\n",
      "50/50 [==============================] - 382s 8s/step - loss: 2.4495 - accuracy: 0.3661\n",
      "Epoch 35/50\n",
      "50/50 [==============================] - 898s 18s/step - loss: 2.4184 - accuracy: 0.3702\n",
      "Epoch 36/50\n",
      "50/50 [==============================] - 2493s 51s/step - loss: 2.4089 - accuracy: 0.3697\n",
      "Epoch 37/50\n",
      "50/50 [==============================] - 337s 7s/step - loss: 2.3876 - accuracy: 0.3772\n",
      "Epoch 38/50\n",
      "50/50 [==============================] - 383s 8s/step - loss: 2.3756 - accuracy: 0.3802\n",
      "Epoch 39/50\n",
      "50/50 [==============================] - 803s 16s/step - loss: 2.3551 - accuracy: 0.3837\n",
      "Epoch 40/50\n",
      "50/50 [==============================] - 370s 7s/step - loss: 2.3379 - accuracy: 0.3849\n",
      "Epoch 41/50\n",
      "50/50 [==============================] - 1043s 21s/step - loss: 2.3233 - accuracy: 0.3883\n",
      "Epoch 42/50\n",
      "50/50 [==============================] - 730s 15s/step - loss: 2.2972 - accuracy: 0.3977\n",
      "Epoch 43/50\n",
      "50/50 [==============================] - 667s 13s/step - loss: 2.2987 - accuracy: 0.3954\n",
      "Epoch 44/50\n",
      "50/50 [==============================] - 465s 9s/step - loss: 2.2791 - accuracy: 0.4005\n",
      "Epoch 45/50\n",
      "50/50 [==============================] - 793s 16s/step - loss: 2.2600 - accuracy: 0.4056\n",
      "Epoch 46/50\n",
      "50/50 [==============================] - 408s 8s/step - loss: 2.2452 - accuracy: 0.4049\n",
      "Epoch 47/50\n",
      "50/50 [==============================] - 718s 14s/step - loss: 2.2377 - accuracy: 0.4059\n",
      "Epoch 48/50\n",
      "50/50 [==============================] - 377s 8s/step - loss: 2.2231 - accuracy: 0.4098\n",
      "Epoch 49/50\n",
      "50/50 [==============================] - 566s 11s/step - loss: 2.2222 - accuracy: 0.4141\n",
      "Epoch 50/50\n",
      "50/50 [==============================] - 377s 8s/step - loss: 2.1906 - accuracy: 0.4201\n"
     ]
    },
    {
     "data": {
      "text/plain": [
       "<keras.callbacks.History at 0x1a50b114220>"
      ]
     },
     "execution_count": 6,
     "metadata": {},
     "output_type": "execute_result"
    }
   ],
   "source": [
    "model.compile(loss='categorical_crossentropy', metrics=['accuracy'], optimizer='adam')\n",
    "\n",
    "model.fit(X_train, Y_train, batch_size=1000, epochs=50)"
   ]
  },
  {
   "cell_type": "code",
   "execution_count": 7,
   "metadata": {
    "tags": []
   },
   "outputs": [
    {
     "name": "stdout",
     "output_type": "stream",
     "text": [
      "\n",
      "Accuracy for train set : 0.49\n",
      "Accuracy for test set   : 0.41\n"
     ]
    }
   ],
   "source": [
    "accuracy_train = model.evaluate(X_train, Y_train, verbose=0)[1]\n",
    "accuracy_test = model.evaluate(X_test, Y_test, verbose=0)[1]\n",
    "\n",
    "print(\"\\nAccuracy for train set : {:.2f}\".format(accuracy_train))\n",
    "print(\"Accuracy for test set   : {:.2f}\".format(accuracy_test))"
   ]
  },
  {
   "cell_type": "markdown",
   "metadata": {},
   "source": [
    "After adding convolution and dense layers, filters, padding and stride values to our model with batch size 1000 and 50 epochs we achieved 49% accuracy on train set and 41% accuracy on test set. "
   ]
  }
 ],
 "metadata": {
  "kernelspec": {
   "display_name": "Python 3",
   "language": "python",
   "name": "python3"
  },
  "language_info": {
   "codemirror_mode": {
    "name": "ipython",
    "version": 3
   },
   "file_extension": ".py",
   "mimetype": "text/x-python",
   "name": "python",
   "nbconvert_exporter": "python",
   "pygments_lexer": "ipython3",
   "version": "3.8.5"
  }
 },
 "nbformat": 4,
 "nbformat_minor": 4
}
